{
 "cells": [
  {
   "cell_type": "code",
   "execution_count": 1,
   "id": "1ca30773-7118-4e36-96c4-8754244ef0ca",
   "metadata": {},
   "outputs": [],
   "source": [
    "import pandas as pd\n",
    "import numpy as np\n",
    "import matplotlib.pyplot as plt\n",
    "import seaborn as sns\n",
    "from sklearn.preprocessing import OneHotEncoder"
   ]
  },
  {
   "cell_type": "code",
   "execution_count": 22,
   "id": "0a54eefd-5ee7-4e7b-98d3-fd55c7f36b4d",
   "metadata": {},
   "outputs": [],
   "source": [
    "import pandas as pd\n",
    "df = pd.read_csv('https://raw.githubusercontent.com/dsindy/kaggle-titanic/master/data/train.csv')\n",
    "\n",
    "def trans_sex(x):\n",
    "    if x == 'male':\n",
    "        return 1\n",
    "    return 0\n",
    "df['sex'] = df['Sex'].apply(trans_sex)\n",
    "\n",
    "df = pd.get_dummies(df, columns=['Embarked'], dtype='int')\n"
   ]
  },
  {
   "cell_type": "code",
   "execution_count": 25,
   "id": "d9bdc59b-6ef1-440c-8de6-66706bd3747d",
   "metadata": {
    "scrolled": true
   },
   "outputs": [
    {
     "name": "stdout",
     "output_type": "stream",
     "text": [
      "<class 'pandas.core.frame.DataFrame'>\n",
      "RangeIndex: 891 entries, 0 to 890\n",
      "Data columns (total 10 columns):\n",
      " #   Column      Non-Null Count  Dtype  \n",
      "---  ------      --------------  -----  \n",
      " 0   Survived    891 non-null    int64  \n",
      " 1   Pclass      891 non-null    int64  \n",
      " 2   Age         891 non-null    float64\n",
      " 3   SibSp       891 non-null    int64  \n",
      " 4   Parch       891 non-null    int64  \n",
      " 5   Fare        891 non-null    float64\n",
      " 6   sex         891 non-null    int64  \n",
      " 7   Embarked_C  891 non-null    int64  \n",
      " 8   Embarked_Q  891 non-null    int64  \n",
      " 9   Embarked_S  891 non-null    int64  \n",
      "dtypes: float64(2), int64(8)\n",
      "memory usage: 69.7 KB\n"
     ]
    },
    {
     "name": "stderr",
     "output_type": "stream",
     "text": [
      "/tmp/ipykernel_4414/221525039.py:3: SettingWithCopyWarning: \n",
      "A value is trying to be set on a copy of a slice from a DataFrame\n",
      "\n",
      "See the caveats in the documentation: https://pandas.pydata.org/pandas-docs/stable/user_guide/indexing.html#returning-a-view-versus-a-copy\n",
      "  df_train['Age'].fillna(fill_age, inplace=True)\n"
     ]
    }
   ],
   "source": [
    "df_train = df[['Survived', 'Pclass', 'Age', 'SibSp', 'Parch', 'Fare', 'sex', 'Embarked_C', 'Embarked_Q', 'Embarked_S']]\n",
    "fill_age = round(df_train['Age'].mean())\n",
    "df_train['Age'].fillna(fill_age, inplace=True)\n",
    "\n",
    "df_train.info()"
   ]
  },
  {
   "cell_type": "code",
   "execution_count": 26,
   "id": "962dadd8-7764-4647-83ce-3b954b3452cb",
   "metadata": {},
   "outputs": [
    {
     "name": "stdout",
     "output_type": "stream",
     "text": [
      "[0.78212291 0.78089888 0.78651685 0.76966292 0.8258427 ]\n"
     ]
    }
   ],
   "source": [
    "columns_X = list(set(df_train.columns) - {'Survived'})\n",
    "columns_y = ['Survived']\n",
    "\n",
    "\n",
    "train_X = df_train[columns_X]\n",
    "train_y = df_train[columns_y]\n",
    "\n",
    "\n",
    "from sklearn.linear_model import LogisticRegression\n",
    "from sklearn.model_selection import cross_val_score\n",
    "\n",
    "\n",
    "log = LogisticRegression(random_state=0, max_iter=3000)\n",
    "scores = cross_val_score(log, train_X, train_y.values.ravel(),cv=5,scoring='accuracy')\n",
    "print(scores)"
   ]
  },
  {
   "cell_type": "code",
   "execution_count": null,
   "id": "7f41d1fb-8c24-48ea-a6a1-e28e620b1f44",
   "metadata": {},
   "outputs": [],
   "source": []
  }
 ],
 "metadata": {
  "kernelspec": {
   "display_name": "Python 3 (ipykernel)",
   "language": "python",
   "name": "python3"
  },
  "language_info": {
   "codemirror_mode": {
    "name": "ipython",
    "version": 3
   },
   "file_extension": ".py",
   "mimetype": "text/x-python",
   "name": "python",
   "nbconvert_exporter": "python",
   "pygments_lexer": "ipython3",
   "version": "3.11.4"
  }
 },
 "nbformat": 4,
 "nbformat_minor": 5
}
