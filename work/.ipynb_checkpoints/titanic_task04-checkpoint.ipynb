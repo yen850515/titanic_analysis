{
 "cells": [
  {
   "cell_type": "code",
   "execution_count": 63,
   "id": "8331c0f6-2ee9-47e0-ae22-6ebd0ec0a206",
   "metadata": {},
   "outputs": [
    {
     "data": {
      "text/html": [
       "<div>\n",
       "<style scoped>\n",
       "    .dataframe tbody tr th:only-of-type {\n",
       "        vertical-align: middle;\n",
       "    }\n",
       "\n",
       "    .dataframe tbody tr th {\n",
       "        vertical-align: top;\n",
       "    }\n",
       "\n",
       "    .dataframe thead th {\n",
       "        text-align: right;\n",
       "    }\n",
       "</style>\n",
       "<table border=\"1\" class=\"dataframe\">\n",
       "  <thead>\n",
       "    <tr style=\"text-align: right;\">\n",
       "      <th></th>\n",
       "      <th>PassengerId</th>\n",
       "      <th>Survived</th>\n",
       "      <th>Pclass</th>\n",
       "      <th>Name</th>\n",
       "      <th>Sex</th>\n",
       "      <th>Age</th>\n",
       "      <th>SibSp</th>\n",
       "      <th>Parch</th>\n",
       "      <th>Ticket</th>\n",
       "      <th>Fare</th>\n",
       "      <th>Cabin</th>\n",
       "      <th>Embarked</th>\n",
       "    </tr>\n",
       "  </thead>\n",
       "  <tbody>\n",
       "    <tr>\n",
       "      <th>0</th>\n",
       "      <td>1</td>\n",
       "      <td>0</td>\n",
       "      <td>3</td>\n",
       "      <td>Braund, Mr. Owen Harris</td>\n",
       "      <td>male</td>\n",
       "      <td>22.0</td>\n",
       "      <td>1</td>\n",
       "      <td>0</td>\n",
       "      <td>A/5 21171</td>\n",
       "      <td>7.2500</td>\n",
       "      <td>NaN</td>\n",
       "      <td>S</td>\n",
       "    </tr>\n",
       "    <tr>\n",
       "      <th>1</th>\n",
       "      <td>2</td>\n",
       "      <td>1</td>\n",
       "      <td>1</td>\n",
       "      <td>Cumings, Mrs. John Bradley (Florence Briggs Th...</td>\n",
       "      <td>female</td>\n",
       "      <td>38.0</td>\n",
       "      <td>1</td>\n",
       "      <td>0</td>\n",
       "      <td>PC 17599</td>\n",
       "      <td>71.2833</td>\n",
       "      <td>C85</td>\n",
       "      <td>C</td>\n",
       "    </tr>\n",
       "    <tr>\n",
       "      <th>2</th>\n",
       "      <td>3</td>\n",
       "      <td>1</td>\n",
       "      <td>3</td>\n",
       "      <td>Heikkinen, Miss. Laina</td>\n",
       "      <td>female</td>\n",
       "      <td>26.0</td>\n",
       "      <td>0</td>\n",
       "      <td>0</td>\n",
       "      <td>STON/O2. 3101282</td>\n",
       "      <td>7.9250</td>\n",
       "      <td>NaN</td>\n",
       "      <td>S</td>\n",
       "    </tr>\n",
       "    <tr>\n",
       "      <th>3</th>\n",
       "      <td>4</td>\n",
       "      <td>1</td>\n",
       "      <td>1</td>\n",
       "      <td>Futrelle, Mrs. Jacques Heath (Lily May Peel)</td>\n",
       "      <td>female</td>\n",
       "      <td>35.0</td>\n",
       "      <td>1</td>\n",
       "      <td>0</td>\n",
       "      <td>113803</td>\n",
       "      <td>53.1000</td>\n",
       "      <td>C123</td>\n",
       "      <td>S</td>\n",
       "    </tr>\n",
       "    <tr>\n",
       "      <th>4</th>\n",
       "      <td>5</td>\n",
       "      <td>0</td>\n",
       "      <td>3</td>\n",
       "      <td>Allen, Mr. William Henry</td>\n",
       "      <td>male</td>\n",
       "      <td>35.0</td>\n",
       "      <td>0</td>\n",
       "      <td>0</td>\n",
       "      <td>373450</td>\n",
       "      <td>8.0500</td>\n",
       "      <td>NaN</td>\n",
       "      <td>S</td>\n",
       "    </tr>\n",
       "    <tr>\n",
       "      <th>...</th>\n",
       "      <td>...</td>\n",
       "      <td>...</td>\n",
       "      <td>...</td>\n",
       "      <td>...</td>\n",
       "      <td>...</td>\n",
       "      <td>...</td>\n",
       "      <td>...</td>\n",
       "      <td>...</td>\n",
       "      <td>...</td>\n",
       "      <td>...</td>\n",
       "      <td>...</td>\n",
       "      <td>...</td>\n",
       "    </tr>\n",
       "    <tr>\n",
       "      <th>886</th>\n",
       "      <td>887</td>\n",
       "      <td>0</td>\n",
       "      <td>2</td>\n",
       "      <td>Montvila, Rev. Juozas</td>\n",
       "      <td>male</td>\n",
       "      <td>27.0</td>\n",
       "      <td>0</td>\n",
       "      <td>0</td>\n",
       "      <td>211536</td>\n",
       "      <td>13.0000</td>\n",
       "      <td>NaN</td>\n",
       "      <td>S</td>\n",
       "    </tr>\n",
       "    <tr>\n",
       "      <th>887</th>\n",
       "      <td>888</td>\n",
       "      <td>1</td>\n",
       "      <td>1</td>\n",
       "      <td>Graham, Miss. Margaret Edith</td>\n",
       "      <td>female</td>\n",
       "      <td>19.0</td>\n",
       "      <td>0</td>\n",
       "      <td>0</td>\n",
       "      <td>112053</td>\n",
       "      <td>30.0000</td>\n",
       "      <td>B42</td>\n",
       "      <td>S</td>\n",
       "    </tr>\n",
       "    <tr>\n",
       "      <th>888</th>\n",
       "      <td>889</td>\n",
       "      <td>0</td>\n",
       "      <td>3</td>\n",
       "      <td>Johnston, Miss. Catherine Helen \"Carrie\"</td>\n",
       "      <td>female</td>\n",
       "      <td>NaN</td>\n",
       "      <td>1</td>\n",
       "      <td>2</td>\n",
       "      <td>W./C. 6607</td>\n",
       "      <td>23.4500</td>\n",
       "      <td>NaN</td>\n",
       "      <td>S</td>\n",
       "    </tr>\n",
       "    <tr>\n",
       "      <th>889</th>\n",
       "      <td>890</td>\n",
       "      <td>1</td>\n",
       "      <td>1</td>\n",
       "      <td>Behr, Mr. Karl Howell</td>\n",
       "      <td>male</td>\n",
       "      <td>26.0</td>\n",
       "      <td>0</td>\n",
       "      <td>0</td>\n",
       "      <td>111369</td>\n",
       "      <td>30.0000</td>\n",
       "      <td>C148</td>\n",
       "      <td>C</td>\n",
       "    </tr>\n",
       "    <tr>\n",
       "      <th>890</th>\n",
       "      <td>891</td>\n",
       "      <td>0</td>\n",
       "      <td>3</td>\n",
       "      <td>Dooley, Mr. Patrick</td>\n",
       "      <td>male</td>\n",
       "      <td>32.0</td>\n",
       "      <td>0</td>\n",
       "      <td>0</td>\n",
       "      <td>370376</td>\n",
       "      <td>7.7500</td>\n",
       "      <td>NaN</td>\n",
       "      <td>Q</td>\n",
       "    </tr>\n",
       "  </tbody>\n",
       "</table>\n",
       "<p>891 rows × 12 columns</p>\n",
       "</div>"
      ],
      "text/plain": [
       "     PassengerId  Survived  Pclass  \\\n",
       "0              1         0       3   \n",
       "1              2         1       1   \n",
       "2              3         1       3   \n",
       "3              4         1       1   \n",
       "4              5         0       3   \n",
       "..           ...       ...     ...   \n",
       "886          887         0       2   \n",
       "887          888         1       1   \n",
       "888          889         0       3   \n",
       "889          890         1       1   \n",
       "890          891         0       3   \n",
       "\n",
       "                                                  Name     Sex   Age  SibSp  \\\n",
       "0                              Braund, Mr. Owen Harris    male  22.0      1   \n",
       "1    Cumings, Mrs. John Bradley (Florence Briggs Th...  female  38.0      1   \n",
       "2                               Heikkinen, Miss. Laina  female  26.0      0   \n",
       "3         Futrelle, Mrs. Jacques Heath (Lily May Peel)  female  35.0      1   \n",
       "4                             Allen, Mr. William Henry    male  35.0      0   \n",
       "..                                                 ...     ...   ...    ...   \n",
       "886                              Montvila, Rev. Juozas    male  27.0      0   \n",
       "887                       Graham, Miss. Margaret Edith  female  19.0      0   \n",
       "888           Johnston, Miss. Catherine Helen \"Carrie\"  female   NaN      1   \n",
       "889                              Behr, Mr. Karl Howell    male  26.0      0   \n",
       "890                                Dooley, Mr. Patrick    male  32.0      0   \n",
       "\n",
       "     Parch            Ticket     Fare Cabin Embarked  \n",
       "0        0         A/5 21171   7.2500   NaN        S  \n",
       "1        0          PC 17599  71.2833   C85        C  \n",
       "2        0  STON/O2. 3101282   7.9250   NaN        S  \n",
       "3        0            113803  53.1000  C123        S  \n",
       "4        0            373450   8.0500   NaN        S  \n",
       "..     ...               ...      ...   ...      ...  \n",
       "886      0            211536  13.0000   NaN        S  \n",
       "887      0            112053  30.0000   B42        S  \n",
       "888      2        W./C. 6607  23.4500   NaN        S  \n",
       "889      0            111369  30.0000  C148        C  \n",
       "890      0            370376   7.7500   NaN        Q  \n",
       "\n",
       "[891 rows x 12 columns]"
      ]
     },
     "execution_count": 63,
     "metadata": {},
     "output_type": "execute_result"
    }
   ],
   "source": [
    "import numpy as np\n",
    "import pandas as pd\n",
    "import seaborn as sns\n",
    "import matplotlib.pyplot as plt\n",
    "titanic = pd.read_csv('https://raw.githubusercontent.com/dsindy/kaggle-titanic/master/data/train.csv')\n",
    "titanic"
   ]
  },
  {
   "cell_type": "markdown",
   "id": "978ac5fc-29d4-4f73-8c31-b7ffa6be3b8f",
   "metadata": {},
   "source": [
    "### 請問資料中有哪些「欄位」你覺得是多餘的，在分析過程中應該被排除的呢？為什麼？\r\n",
    "PassengerId：乘客ID，通常是用來標識乘客的唯一值，對生存與否沒有實際意義\n",
    "\r\n",
    "Name：乘客姓名，通常也不具有直接的。\r\n",
    "\r\n",
    "Ticket：船票號碼，對於生存與否沒有太的Cabin：客艙號碼，缺失值較多，而且與生存與否的關聯度較低助分析結果的新變數。變數。"
   ]
  },
  {
   "cell_type": "code",
   "execution_count": 64,
   "id": "b94b3fbe-790f-429b-9ade-60b9d8b4aee8",
   "metadata": {},
   "outputs": [
    {
     "name": "stdout",
     "output_type": "stream",
     "text": [
      "<class 'pandas.core.frame.DataFrame'>\n",
      "RangeIndex: 891 entries, 0 to 890\n",
      "Data columns (total 12 columns):\n",
      " #   Column       Non-Null Count  Dtype  \n",
      "---  ------       --------------  -----  \n",
      " 0   PassengerId  891 non-null    int64  \n",
      " 1   Survived     891 non-null    int64  \n",
      " 2   Pclass       891 non-null    int64  \n",
      " 3   Name         891 non-null    object \n",
      " 4   Sex          891 non-null    object \n",
      " 5   Age          714 non-null    float64\n",
      " 6   SibSp        891 non-null    int64  \n",
      " 7   Parch        891 non-null    int64  \n",
      " 8   Ticket       891 non-null    object \n",
      " 9   Fare         891 non-null    float64\n",
      " 10  Cabin        204 non-null    object \n",
      " 11  Embarked     889 non-null    object \n",
      "dtypes: float64(2), int64(5), object(5)\n",
      "memory usage: 83.7+ KB\n"
     ]
    }
   ],
   "source": [
    "titanic.info()\n",
    "titanic.describe()\n",
    "df = titanic.copy()\n",
    "df1 = titanic.copy()\n",
    "new_df = titanic.copy()"
   ]
  },
  {
   "cell_type": "markdown",
   "id": "0bf4da12-af6d-47be-bbaf-10a227d0daa1",
   "metadata": {},
   "source": [
    "### 針對「有缺失值」的欄位，嘗試不同的處理策略（例如：常數、中位數、平均數填補）比較結果\n",
    "利用(常數、中位數、平均數)去補df['Age']中缺失值，並將結果平均，發現常數有較高的準確度"
   ]
  },
  {
   "cell_type": "code",
   "execution_count": 17,
   "id": "09ac06a9-1cab-4845-9ab0-3a3ca9cac8b2",
   "metadata": {},
   "outputs": [],
   "source": [
    "# 先將df['Sex']及df['Embarked']固定參數\n",
    "def trans_sex(x):\n",
    "    if x == 'male':\n",
    "        return 1\n",
    "    return 0\n",
    "df['sex'] = df['Sex'].apply(trans_sex)\n",
    "\n",
    "df = pd.get_dummies(df, columns=['Embarked'], dtype='int')\n",
    "df_train = df[['Survived', 'Pclass', 'Age', 'SibSp', 'Parch', 'Fare', 'sex', 'Embarked_C', 'Embarked_Q', 'Embarked_S']]"
   ]
  },
  {
   "cell_type": "code",
   "execution_count": 18,
   "id": "e8980714-c4f2-448d-86c1-b72d0dd42a0e",
   "metadata": {},
   "outputs": [],
   "source": [
    "df_train_med = df_train.copy()\n",
    "df_train_freq = df_train.copy()\n",
    "df_train_mean = df_train.copy()"
   ]
  },
  {
   "cell_type": "code",
   "execution_count": 19,
   "id": "3b50647a-715b-4b60-aca8-9f3b00b71b5e",
   "metadata": {},
   "outputs": [
    {
     "name": "stdout",
     "output_type": "stream",
     "text": [
      "0.7912497646098802\n"
     ]
    }
   ],
   "source": [
    "# 常數\n",
    "freq = df_train_freq.groupby('Age')['Age'].count().sort_values().tail(1).index[0]\n",
    "df_train_freq['Age'].fillna(freq, inplace=True)\n",
    "\n",
    "columns_X = list(set(df_train_freq.columns) - {'Survived'})\n",
    "columns_y = ['Survived']\n",
    "\n",
    "train_X = df_train_freq[columns_X]\n",
    "train_y = df_train_freq[columns_y]\n",
    "\n",
    "from sklearn.linear_model import LogisticRegression\n",
    "from sklearn.model_selection import cross_val_score\n",
    "\n",
    "log = LogisticRegression(random_state=0, max_iter=3000)\n",
    "scores = cross_val_score(log, train_X, train_y.values.ravel(),cv=5,scoring='accuracy')\n",
    "print(scores.mean())"
   ]
  },
  {
   "cell_type": "code",
   "execution_count": 20,
   "id": "68207093-875f-4466-a8e8-6b3f0ed8b8ad",
   "metadata": {},
   "outputs": [
    {
     "name": "stdout",
     "output_type": "stream",
     "text": [
      "0.7890151277383717\n"
     ]
    }
   ],
   "source": [
    "# 中位數\n",
    "med = df_train_med['Age'].median()\n",
    "df_train_med['Age'].fillna(med, inplace=True)\n",
    "\n",
    "columns_X = list(set(df_train_med.columns) - {'Survived'})\n",
    "columns_y = ['Survived']\n",
    "\n",
    "train_X = df_train_med[columns_X]\n",
    "train_y = df_train_med[columns_y]\n",
    "\n",
    "from sklearn.linear_model import LogisticRegression\n",
    "from sklearn.model_selection import cross_val_score\n",
    "\n",
    "log = LogisticRegression(random_state=0, max_iter=3000)\n",
    "scores = cross_val_score(log, train_X, train_y.values.ravel(),cv=5,scoring='accuracy')\n",
    "print(scores.mean())"
   ]
  },
  {
   "cell_type": "code",
   "execution_count": 21,
   "id": "2f9a614e-5c41-446f-af7a-e855344c50d9",
   "metadata": {},
   "outputs": [
    {
     "name": "stdout",
     "output_type": "stream",
     "text": [
      "0.789008850668508\n"
     ]
    }
   ],
   "source": [
    "# 平均數\n",
    "mean = df_train_mean['Age'].mean()\n",
    "df_train_mean['Age'].fillna(mean, inplace=True)\n",
    "\n",
    "columns_X = list(set(df_train_mean.columns) - {'Survived'})\n",
    "columns_y = ['Survived']\n",
    "\n",
    "train_X = df_train_mean[columns_X]\n",
    "train_y = df_train_mean[columns_y]\n",
    "\n",
    "from sklearn.linear_model import LogisticRegression\n",
    "from sklearn.model_selection import cross_val_score\n",
    "\n",
    "log = LogisticRegression(random_state=0, max_iter=3000)\n",
    "scores = cross_val_score(log, train_X, train_y.values.ravel(),cv=5,scoring='accuracy')\n",
    "print(scores.mean())"
   ]
  },
  {
   "cell_type": "markdown",
   "id": "e1a79b50-ee1c-4d1f-a008-50892c817e5f",
   "metadata": {},
   "source": [
    "### 針對「非數值型」的欄位，嘗試不同的處理策略（例如：LabelEncoder 或 OneHotEncoder）比較結果。\n",
    "發現利用OneHotEncoder有較高的準確度"
   ]
  },
  {
   "cell_type": "code",
   "execution_count": 22,
   "id": "ec08bb8f-f909-49cd-b152-38ab2dabcd45",
   "metadata": {},
   "outputs": [],
   "source": [
    "df1 = pd.get_dummies(df1, columns=['Sex','Embarked'], dtype='int')\n",
    "df1_train = df1[['Survived', 'Pclass', 'Age', 'SibSp', 'Parch', 'Fare', 'Sex_female', 'Sex_male', 'Embarked_C', 'Embarked_Q', 'Embarked_S']]"
   ]
  },
  {
   "cell_type": "code",
   "execution_count": 33,
   "id": "153eb28e-9af7-48c8-93ca-c56873008314",
   "metadata": {},
   "outputs": [
    {
     "name": "stdout",
     "output_type": "stream",
     "text": [
      "0.789008850668508\n"
     ]
    }
   ],
   "source": [
    "#  OneHotEncoder\n",
    "freq = df1_train.groupby('Age')['Age'].count().sort_values().tail(1).index[0]\n",
    "df1_train['Age'].fillna(freq, inplace=True)\n",
    "\n",
    "columns_X = list(set(df1_train.columns) - {'Survived'})\n",
    "columns_y = ['Survived']\n",
    "\n",
    "train_X = df1_train[columns_X]\n",
    "train_y = df1_train[columns_y]\n",
    "\n",
    "from sklearn.linear_model import LogisticRegression\n",
    "from sklearn.model_selection import cross_val_score\n",
    "\n",
    "log = LogisticRegression(random_state=0, max_iter=3000)\n",
    "scores = cross_val_score(log, train_X, train_y.values.ravel(),cv=5,scoring='accuracy')\n",
    "print(scores.mean())"
   ]
  },
  {
   "cell_type": "code",
   "execution_count": null,
   "id": "c39d2959-b87a-4a98-bf79-72a6371ca474",
   "metadata": {},
   "outputs": [],
   "source": []
  },
  {
   "cell_type": "code",
   "execution_count": 30,
   "id": "1885d2ab-89a9-45eb-8ef2-674b0bc1961c",
   "metadata": {},
   "outputs": [],
   "source": [
    "# LabelEncoder\n",
    "from sklearn.preprocessing import LabelEncoder , OneHotEncoder\n",
    "\n",
    "#選擇非數值型的欄位\n",
    "non_numeric_columns = ['Sex' , 'Embarked']\n",
    "\n",
    "#使用 LabelEncoder 處理非數值行的欄位\n",
    "df_label_encoded = titanic.copy()\n",
    "label_encoder = LabelEncoder()\n",
    "for column in non_numeric_columns:\n",
    "  df_label_encoded[column] = label_encoder.fit_transform(df_label_encoded[column])\n",
    "\n",
    "df2_train = df_label_encoded[['Survived', 'Pclass', 'Age', 'SibSp', 'Parch', 'Fare', 'Sex', 'Embarked']]"
   ]
  },
  {
   "cell_type": "code",
   "execution_count": 32,
   "id": "76d095fa-001e-46b9-ba36-02f6af3cc4ad",
   "metadata": {},
   "outputs": [
    {
     "name": "stderr",
     "output_type": "stream",
     "text": [
      "/tmp/ipykernel_12060/1295761589.py:2: SettingWithCopyWarning: \n",
      "A value is trying to be set on a copy of a slice from a DataFrame\n",
      "\n",
      "See the caveats in the documentation: https://pandas.pydata.org/pandas-docs/stable/user_guide/indexing.html#returning-a-view-versus-a-copy\n",
      "  df2_train['Age'].fillna(freq, inplace=True)\n"
     ]
    },
    {
     "name": "stdout",
     "output_type": "stream",
     "text": [
      "0.786761659657272\n"
     ]
    }
   ],
   "source": [
    "freq = df2_train.groupby('Age')['Age'].count().sort_values().tail(1).index[0]\n",
    "df2_train['Age'].fillna(freq, inplace=True)\n",
    "\n",
    "columns_X = list(set(df2_train.columns) - {'Survived'})\n",
    "columns_y = ['Survived']\n",
    "\n",
    "train_X = df2_train[columns_X]\n",
    "train_y = df2_train[columns_y]\n",
    "\n",
    "from sklearn.linear_model import LogisticRegression\n",
    "from sklearn.model_selection import cross_val_score\n",
    "\n",
    "log = LogisticRegression(random_state=0, max_iter=3000)\n",
    "scores = cross_val_score(log, train_X, train_y.values.ravel(),cv=5,scoring='accuracy')\n",
    "print(scores.mean())"
   ]
  },
  {
   "cell_type": "markdown",
   "id": "771ad23f-3a6c-466b-83e4-a5635bcb969a",
   "metadata": {},
   "source": [
    "### 請你嘗試不同的特徵工程手法，產生可以幫助分析結果的新變數。"
   ]
  },
  {
   "cell_type": "code",
   "execution_count": 66,
   "id": "874873e3-7758-41a7-a573-dda5a7bb004d",
   "metadata": {},
   "outputs": [],
   "source": [
    "# 把 “父母＋小孩” + “兄弟姊妹＋丈夫妻子” 的總和變成一個新的欄位為家庭大小\n",
    "new_df['family'] = new_df['Parch'] + new_df['SibSp']"
   ]
  },
  {
   "cell_type": "code",
   "execution_count": 67,
   "id": "351e5064-6b28-4e3f-b4e4-cedc3794b16e",
   "metadata": {},
   "outputs": [],
   "source": [
    "new_df['title'] = new_df['Name'].str.split(', ')\n",
    "new_df['title'] = new_df['title'].apply(lambda name : name[1].split('.')[0])"
   ]
  },
  {
   "cell_type": "code",
   "execution_count": 68,
   "id": "ef736837-2895-48d4-8a59-34dd60d74573",
   "metadata": {},
   "outputs": [],
   "source": [
    "Title_Dict = {\n",
    "    'Mr':'Mr',\n",
    "    'Mrs':'Mrs',\n",
    "    'Miss':'Miss',\n",
    "    'Master':'Master',\n",
    "    'Don':'Royalty',\n",
    "    'Rev':'Officer',\n",
    "    'Dr':'Officer',\n",
    "    'Mme':'Mrs',\n",
    "    'Ms':'Mrs',\n",
    "    'Major':'Officer',\n",
    "    'Lady':'Royalty',\n",
    "    'Sir':'Royalty',\n",
    "    'Mlle':'Miss',\n",
    "    'Col':'Officer',\n",
    "    'Capt':'Officer',\n",
    "    'the Countess':'Royalty',\n",
    "    'Jonkheer':'Royalty'\n",
    "}\n",
    "new_df['title'] = new_df['title'].map(Title_Dict)"
   ]
  },
  {
   "cell_type": "code",
   "execution_count": 69,
   "id": "e2c078e6-48fb-442a-af8a-28a7d8a1adc4",
   "metadata": {},
   "outputs": [],
   "source": [
    "new_df =  pd.get_dummies(new_df, columns=['Sex','Embarked','title'], dtype='int')"
   ]
  },
  {
   "cell_type": "code",
   "execution_count": 70,
   "id": "0728e111-62d7-47bf-968f-a474ff273183",
   "metadata": {},
   "outputs": [],
   "source": [
    "df_new_train = new_df[['Survived', 'Pclass', 'Age', 'family', 'Fare', 'Sex_female', 'Sex_male', 'Embarked_C', 'Embarked_Q', 'Embarked_S',\n",
    "                      'title_Master', 'title_Miss', 'title_Mr', 'title_Mrs', 'title_Officer', 'title_Royalty']]"
   ]
  },
  {
   "cell_type": "code",
   "execution_count": 71,
   "id": "05b9b635-f4d2-4ea0-921c-011c88aea1cd",
   "metadata": {},
   "outputs": [
    {
     "name": "stderr",
     "output_type": "stream",
     "text": [
      "/tmp/ipykernel_116/3189798822.py:2: SettingWithCopyWarning: \n",
      "A value is trying to be set on a copy of a slice from a DataFrame\n",
      "\n",
      "See the caveats in the documentation: https://pandas.pydata.org/pandas-docs/stable/user_guide/indexing.html#returning-a-view-versus-a-copy\n",
      "  df_new_train['Age'].fillna(freq, inplace=True)\n"
     ]
    },
    {
     "name": "stdout",
     "output_type": "stream",
     "text": [
      "[0.83240223 0.8258427  0.80337079 0.80337079 0.85955056]\n"
     ]
    }
   ],
   "source": [
    "freq = df_new_train.groupby('Age')['Age'].count().sort_values().tail(1).index[0]\n",
    "df_new_train['Age'].fillna(freq, inplace=True)\n",
    "\n",
    "columns_X = list(set(df_new_train.columns) - {'Survived'})\n",
    "columns_y = ['Survived']\n",
    "\n",
    "train_X = df_new_train[columns_X]\n",
    "train_y = df_new_train[columns_y]\n",
    "\n",
    "from sklearn.linear_model import LogisticRegression\n",
    "from sklearn.model_selection import cross_val_score\n",
    "\n",
    "log = LogisticRegression(random_state=0, max_iter=3000)\n",
    "scores = cross_val_score(log, train_X, train_y.values.ravel(),cv=5,scoring='accuracy')\n",
    "print(scores)"
   ]
  },
  {
   "cell_type": "code",
   "execution_count": null,
   "id": "35e4a82e-bea7-4cd9-b2d0-1cc13119eb47",
   "metadata": {},
   "outputs": [],
   "source": []
  }
 ],
 "metadata": {
  "kernelspec": {
   "display_name": "Python 3 (ipykernel)",
   "language": "python",
   "name": "python3"
  },
  "language_info": {
   "codemirror_mode": {
    "name": "ipython",
    "version": 3
   },
   "file_extension": ".py",
   "mimetype": "text/x-python",
   "name": "python",
   "nbconvert_exporter": "python",
   "pygments_lexer": "ipython3",
   "version": "3.11.4"
  }
 },
 "nbformat": 4,
 "nbformat_minor": 5
}
