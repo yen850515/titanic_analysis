{
 "cells": [
  {
   "cell_type": "code",
   "execution_count": 1,
   "id": "b82deba0-3ba1-474b-8a41-ca0601099ba6",
   "metadata": {},
   "outputs": [],
   "source": [
    "import numpy as np\n",
    "import pandas as pd\n",
    "import seaborn as sns\n",
    "import matplotlib.pyplot as plt\n",
    "import warnings\n",
    "warnings.filterwarnings('ignore')\n",
    "\n",
    "titanic = pd.read_csv('https://raw.githubusercontent.com/dsindy/kaggle-titanic/master/data/train.csv')\n",
    "titanic\n",
    "df = titanic.copy()"
   ]
  },
  {
   "cell_type": "code",
   "execution_count": 2,
   "id": "c2916713-3e3d-49cc-aaed-bd0144b22a76",
   "metadata": {},
   "outputs": [],
   "source": [
    "def process_family():\n",
    "    global df\n",
    "    # introducing a new feature : the size of families (including the passenger)\n",
    "    df['family'] = df['Parch'] + df['SibSp'] + 1\n",
    "\n",
    "    # introducing other features based on the family size\n",
    "    df['Singleton'] = df['family'].map(lambda s: 1 if s == 1 else 0)\n",
    "    df['SmallFamily'] = df['family'].map(lambda s: 1 if 2 <= s <= 4 else 0)\n",
    "    df['LargeFamily'] = df['family'].map(lambda s: 1 if 5 <= s else 0)\n",
    "    return df\n",
    "    \n",
    "df = process_family()"
   ]
  },
  {
   "cell_type": "code",
   "execution_count": 3,
   "id": "f0d23fa7-3d7b-4d8c-9b61-7b0ba8a82a9c",
   "metadata": {},
   "outputs": [],
   "source": [
    "df['title'] = df['Name'].str.split(', ')\n",
    "df['title'] = df['title'].apply(lambda name : name[1].split('.')[0])"
   ]
  },
  {
   "cell_type": "code",
   "execution_count": 4,
   "id": "142c1cea-186d-44fd-a330-869a21fcda9c",
   "metadata": {},
   "outputs": [],
   "source": [
    "Title_Dict = {\n",
    "    'Mr':'Mr',\n",
    "    'Mrs':'Mrs',\n",
    "    'Miss':'Miss',\n",
    "    'Master':'Master',\n",
    "    'Don':'Royalty',\n",
    "    'Rev':'Officer',\n",
    "    'Dr':'Officer',\n",
    "    'Mme':'Mrs',\n",
    "    'Ms':'Mrs',\n",
    "    'Major':'Officer',\n",
    "    'Lady':'Royalty',\n",
    "    'Sir':'Royalty',\n",
    "    'Mlle':'Miss',\n",
    "    'Col':'Officer',\n",
    "    'Capt':'Officer',\n",
    "    'the Countess':'Royalty',\n",
    "    'Jonkheer':'Royalty'\n",
    "}\n",
    "df['title'] = df['title'].map(Title_Dict)"
   ]
  },
  {
   "cell_type": "code",
   "execution_count": 5,
   "id": "a550e8cb-9792-4b27-83bd-72690a1c7dd4",
   "metadata": {},
   "outputs": [
    {
     "data": {
      "text/html": [
       "<div>\n",
       "<style scoped>\n",
       "    .dataframe tbody tr th:only-of-type {\n",
       "        vertical-align: middle;\n",
       "    }\n",
       "\n",
       "    .dataframe tbody tr th {\n",
       "        vertical-align: top;\n",
       "    }\n",
       "\n",
       "    .dataframe thead th {\n",
       "        text-align: right;\n",
       "    }\n",
       "</style>\n",
       "<table border=\"1\" class=\"dataframe\">\n",
       "  <thead>\n",
       "    <tr style=\"text-align: right;\">\n",
       "      <th></th>\n",
       "      <th></th>\n",
       "      <th></th>\n",
       "      <th>Age</th>\n",
       "    </tr>\n",
       "    <tr>\n",
       "      <th>Sex</th>\n",
       "      <th>title</th>\n",
       "      <th>Pclass</th>\n",
       "      <th></th>\n",
       "    </tr>\n",
       "  </thead>\n",
       "  <tbody>\n",
       "    <tr>\n",
       "      <th rowspan=\"8\" valign=\"top\">female</th>\n",
       "      <th rowspan=\"3\" valign=\"top\">Miss</th>\n",
       "      <th>1</th>\n",
       "      <td>30.0</td>\n",
       "    </tr>\n",
       "    <tr>\n",
       "      <th>2</th>\n",
       "      <td>24.0</td>\n",
       "    </tr>\n",
       "    <tr>\n",
       "      <th>3</th>\n",
       "      <td>18.0</td>\n",
       "    </tr>\n",
       "    <tr>\n",
       "      <th rowspan=\"3\" valign=\"top\">Mrs</th>\n",
       "      <th>1</th>\n",
       "      <td>40.0</td>\n",
       "    </tr>\n",
       "    <tr>\n",
       "      <th>2</th>\n",
       "      <td>31.5</td>\n",
       "    </tr>\n",
       "    <tr>\n",
       "      <th>3</th>\n",
       "      <td>31.0</td>\n",
       "    </tr>\n",
       "    <tr>\n",
       "      <th>Officer</th>\n",
       "      <th>1</th>\n",
       "      <td>49.0</td>\n",
       "    </tr>\n",
       "    <tr>\n",
       "      <th>Royalty</th>\n",
       "      <th>1</th>\n",
       "      <td>40.5</td>\n",
       "    </tr>\n",
       "    <tr>\n",
       "      <th rowspan=\"9\" valign=\"top\">male</th>\n",
       "      <th rowspan=\"3\" valign=\"top\">Master</th>\n",
       "      <th>1</th>\n",
       "      <td>4.0</td>\n",
       "    </tr>\n",
       "    <tr>\n",
       "      <th>2</th>\n",
       "      <td>1.0</td>\n",
       "    </tr>\n",
       "    <tr>\n",
       "      <th>3</th>\n",
       "      <td>4.0</td>\n",
       "    </tr>\n",
       "    <tr>\n",
       "      <th rowspan=\"3\" valign=\"top\">Mr</th>\n",
       "      <th>1</th>\n",
       "      <td>40.0</td>\n",
       "    </tr>\n",
       "    <tr>\n",
       "      <th>2</th>\n",
       "      <td>31.0</td>\n",
       "    </tr>\n",
       "    <tr>\n",
       "      <th>3</th>\n",
       "      <td>26.0</td>\n",
       "    </tr>\n",
       "    <tr>\n",
       "      <th rowspan=\"2\" valign=\"top\">Officer</th>\n",
       "      <th>1</th>\n",
       "      <td>51.0</td>\n",
       "    </tr>\n",
       "    <tr>\n",
       "      <th>2</th>\n",
       "      <td>46.5</td>\n",
       "    </tr>\n",
       "    <tr>\n",
       "      <th>Royalty</th>\n",
       "      <th>1</th>\n",
       "      <td>40.0</td>\n",
       "    </tr>\n",
       "  </tbody>\n",
       "</table>\n",
       "</div>"
      ],
      "text/plain": [
       "                        Age\n",
       "Sex    title   Pclass      \n",
       "female Miss    1       30.0\n",
       "               2       24.0\n",
       "               3       18.0\n",
       "       Mrs     1       40.0\n",
       "               2       31.5\n",
       "               3       31.0\n",
       "       Officer 1       49.0\n",
       "       Royalty 1       40.5\n",
       "male   Master  1        4.0\n",
       "               2        1.0\n",
       "               3        4.0\n",
       "       Mr      1       40.0\n",
       "               2       31.0\n",
       "               3       26.0\n",
       "       Officer 1       51.0\n",
       "               2       46.5\n",
       "       Royalty 1       40.0"
      ]
     },
     "execution_count": 5,
     "metadata": {},
     "output_type": "execute_result"
    }
   ],
   "source": [
    "# Age填補 missing values by group sex、title、pclass median\n",
    "age_median = df.pivot_table(values = 'Age' , index = ['Sex' , 'title' , 'Pclass'] , aggfunc='median')\n",
    "age_median"
   ]
  },
  {
   "cell_type": "code",
   "execution_count": 6,
   "id": "5180ef12-d39c-4ab4-9574-8e5e0c4e9d24",
   "metadata": {},
   "outputs": [],
   "source": [
    "age_median = df.groupby(['Sex' , 'title' , 'Pclass'])['Age'].transform('median')\n",
    "df['Age'] = df['Age'].fillna(age_median)"
   ]
  },
  {
   "cell_type": "code",
   "execution_count": 7,
   "id": "b77d0b30-1a79-4322-86a2-692876e057da",
   "metadata": {},
   "outputs": [],
   "source": [
    "df = pd.get_dummies(df, columns=['Sex','Embarked','title'], dtype='int')"
   ]
  },
  {
   "cell_type": "code",
   "execution_count": 8,
   "id": "0e594b7f-21ef-45da-99e9-9ef8efeddbdc",
   "metadata": {},
   "outputs": [],
   "source": [
    "#標準化年齡、價錢\n",
    "from sklearn.preprocessing import StandardScaler\n",
    "sz = StandardScaler()\n",
    "df['Age'] = sz.fit_transform(df[['Age']])\n",
    "df['Fare'] = sz.fit_transform(df[['Fare']])"
   ]
  },
  {
   "cell_type": "code",
   "execution_count": 9,
   "id": "3f6ea4d1-e6ca-4051-b995-feb53d6592bf",
   "metadata": {},
   "outputs": [],
   "source": [
    "df_train = df[['Survived', 'Pclass', 'Age', 'family', 'Fare', 'Sex_female', 'Sex_male', 'Embarked_C', 'Embarked_Q', 'Embarked_S',\n",
    "            'title_Master', 'title_Miss', 'title_Mr', 'title_Mrs', 'title_Officer', 'title_Royalty', 'Singleton', 'SmallFamily', 'LargeFamily']]"
   ]
  },
  {
   "cell_type": "markdown",
   "id": "2b16052d-5018-46b8-a32b-cacae6167b80",
   "metadata": {},
   "source": [
    "### 不同模型"
   ]
  },
  {
   "cell_type": "code",
   "execution_count": 10,
   "id": "ed5f6ae6-e414-45e3-94a7-0775ebbecc15",
   "metadata": {},
   "outputs": [],
   "source": [
    "from sklearn.linear_model import LogisticRegression , LogisticRegressionCV\n",
    "from sklearn.ensemble import RandomForestClassifier , GradientBoostingClassifier\n",
    "from sklearn.svm import SVC\n",
    "from sklearn.neighbors import KNeighborsClassifier\n",
    "from sklearn.tree import DecisionTreeClassifier\n",
    "from sklearn.naive_bayes import GaussianNB"
   ]
  },
  {
   "cell_type": "code",
   "execution_count": 11,
   "id": "e23b5e36-58a5-47e0-bd62-3110b0bf8417",
   "metadata": {},
   "outputs": [],
   "source": [
    "log = LogisticRegression(random_state = 0 , max_iter = 1000)\n",
    "logcv = LogisticRegressionCV(random_state=0 , max_iter = 3000)\n",
    "svc = SVC(random_state = 0)\n",
    "decisiontree = DecisionTreeClassifier()\n",
    "knn = KNeighborsClassifier(n_neighbors=3)\n",
    "gaussian = GaussianNB()\n",
    "rf = RandomForestClassifier(n_estimators=100)\n",
    "models = [log , logcv , svc , decisiontree , knn , gaussian , rf]"
   ]
  },
  {
   "cell_type": "code",
   "execution_count": 13,
   "id": "8e1f2c86-dfcb-4ee3-9fcb-0769b5aed9b4",
   "metadata": {},
   "outputs": [],
   "source": [
    "model_names = ['Logistic Regression' , 'Logistic Regression CV' , 'SVC' , 'Decision Tree' , 'KNN' , 'Gaussian Navive' , 'Random Forest']\n",
    "res = []\n",
    "from sklearn.model_selection import cross_val_score\n",
    "\n",
    "def score(model , x , y):\n",
    "  return cross_val_score(model , x , y , cv = 5 , scoring = 'accuracy').mean()"
   ]
  },
  {
   "cell_type": "code",
   "execution_count": 14,
   "id": "e3769a22-c471-4b77-ada2-5a7a50170908",
   "metadata": {},
   "outputs": [
    {
     "data": {
      "text/html": [
       "<div>\n",
       "<style scoped>\n",
       "    .dataframe tbody tr th:only-of-type {\n",
       "        vertical-align: middle;\n",
       "    }\n",
       "\n",
       "    .dataframe tbody tr th {\n",
       "        vertical-align: top;\n",
       "    }\n",
       "\n",
       "    .dataframe thead th {\n",
       "        text-align: right;\n",
       "    }\n",
       "</style>\n",
       "<table border=\"1\" class=\"dataframe\">\n",
       "  <thead>\n",
       "    <tr style=\"text-align: right;\">\n",
       "      <th></th>\n",
       "      <th>Model</th>\n",
       "      <th>Average Score</th>\n",
       "    </tr>\n",
       "  </thead>\n",
       "  <tbody>\n",
       "    <tr>\n",
       "      <th>2</th>\n",
       "      <td>SVC</td>\n",
       "      <td>0.833877</td>\n",
       "    </tr>\n",
       "    <tr>\n",
       "      <th>1</th>\n",
       "      <td>Logistic Regression CV</td>\n",
       "      <td>0.828278</td>\n",
       "    </tr>\n",
       "    <tr>\n",
       "      <th>0</th>\n",
       "      <td>Logistic Regression</td>\n",
       "      <td>0.827155</td>\n",
       "    </tr>\n",
       "    <tr>\n",
       "      <th>5</th>\n",
       "      <td>Gaussian Navive</td>\n",
       "      <td>0.818172</td>\n",
       "    </tr>\n",
       "    <tr>\n",
       "      <th>6</th>\n",
       "      <td>Random Forest</td>\n",
       "      <td>0.806961</td>\n",
       "    </tr>\n",
       "    <tr>\n",
       "      <th>4</th>\n",
       "      <td>KNN</td>\n",
       "      <td>0.804720</td>\n",
       "    </tr>\n",
       "    <tr>\n",
       "      <th>3</th>\n",
       "      <td>Decision Tree</td>\n",
       "      <td>0.775538</td>\n",
       "    </tr>\n",
       "  </tbody>\n",
       "</table>\n",
       "</div>"
      ],
      "text/plain": [
       "                    Model  Average Score\n",
       "2                     SVC       0.833877\n",
       "1  Logistic Regression CV       0.828278\n",
       "0     Logistic Regression       0.827155\n",
       "5         Gaussian Navive       0.818172\n",
       "6           Random Forest       0.806961\n",
       "4                     KNN       0.804720\n",
       "3           Decision Tree       0.775538"
      ]
     },
     "execution_count": 14,
     "metadata": {},
     "output_type": "execute_result"
    }
   ],
   "source": [
    "columns_X = list(set(df_train.columns) - {'Survived'})\n",
    "columns_y = ['Survived']\n",
    "\n",
    "train_X = df_train[columns_X]\n",
    "train_y = df_train[columns_y]\n",
    "\n",
    "for num in range(len(models)):\n",
    "    res.append({'Model':model_names[num] , 'Average Score': score(models[num] , train_X , train_y)})\n",
    "    \n",
    "res = pd.DataFrame(res)\n",
    "res.sort_values('Average Score', ascending=False)"
   ]
  },
  {
   "cell_type": "markdown",
   "id": "59b2ea3c-a021-4b9a-be11-ad4e93d44c79",
   "metadata": {},
   "source": [
    "###  利用「sklearn.model_selection 下的 GridSearchCV(...)」進行參數的調整\n",
    "1. SVC\n",
    "2. Log"
   ]
  },
  {
   "cell_type": "code",
   "execution_count": 15,
   "id": "955ccfbb-a899-43e6-ae9e-e9878f594de7",
   "metadata": {},
   "outputs": [],
   "source": [
    "df_gs = df[['Survived', 'Pclass', 'Age', 'family', 'Fare', 'Sex_female', 'Sex_male', 'Embarked_C', 'Embarked_Q', 'Embarked_S',\n",
    "            'title_Master', 'title_Miss', 'title_Mr', 'title_Mrs', 'title_Officer', 'title_Royalty', 'Singleton', 'SmallFamily', 'LargeFamily']]"
   ]
  },
  {
   "cell_type": "code",
   "execution_count": 16,
   "id": "9025fb45-7eef-4998-b1ad-063d4ecb43a8",
   "metadata": {},
   "outputs": [],
   "source": [
    "from sklearn.model_selection import GridSearchCV\n",
    "\n",
    "columns_X = list(set(df_gs.columns) - {'Survived'})\n",
    "columns_y = ['Survived']\n",
    "\n",
    "train_X = df_gs[columns_X]\n",
    "train_y = df_gs[columns_y]"
   ]
  },
  {
   "cell_type": "code",
   "execution_count": 17,
   "id": "95efc297-fb46-42fc-8a0a-f722f6db39c5",
   "metadata": {},
   "outputs": [
    {
     "name": "stdout",
     "output_type": "stream",
     "text": [
      "Best Parameters:  {'C': 0.1, 'gamma': 1, 'kernel': 'linear'}\n",
      "Best Score:  0.8294051627384961\n"
     ]
    }
   ],
   "source": [
    "# SVC\n",
    "svc = SVC()\n",
    "\n",
    "# 定义超参数范围\n",
    "param_grid = {\n",
    "    'C': [0.1, 1, 10, 100, 1000],\n",
    "    'gamma': [1, 0.1, 0.01, 0.001],\n",
    "    'kernel': ['linear', 'sigmoid']\n",
    "}\n",
    "\n",
    "grid_search = GridSearchCV(estimator=svc, param_grid=param_grid, cv=3, scoring='accuracy')\n",
    "grid_search.fit(train_X, train_y)\n",
    "\n",
    "print(\"Best Parameters: \", grid_search.best_params_)\n",
    "print(\"Best Score: \", grid_search.best_score_)\n"
   ]
  },
  {
   "cell_type": "code",
   "execution_count": 18,
   "id": "8b82ca39-2c12-4ad4-ac17-90fd1036ed70",
   "metadata": {},
   "outputs": [
    {
     "name": "stdout",
     "output_type": "stream",
     "text": [
      "Best Parameters:  {'C': 1, 'penalty': 'l2', 'solver': 'liblinear'}\n",
      "Best Score:  0.8260381593714928\n"
     ]
    }
   ],
   "source": [
    "# Logistic Regression\n",
    "log_reg = LogisticRegression()\n",
    "\n",
    "# 定義超參數範圍\n",
    "param_grid = {\n",
    "    'penalty' : ['l1', 'l2'], # 正則化參數\n",
    "    'C' : [0.001, 0.01, 0.1, 1, 10, 100, 1000], # C參數\n",
    "    'solver' : ['liblinear', 'sag'] # 優化算法\n",
    "}\n",
    "\n",
    "# 創建 GridSearchCV 物件\n",
    "grid_search = GridSearchCV(estimator=log_reg, param_grid=param_grid, cv=3, scoring='accuracy')\n",
    "grid_search.fit(train_X, train_y)\n",
    "\n",
    "print(\"Best Parameters: \", grid_search.best_params_)\n",
    "print(\"Best Score: \", grid_search.best_score_)"
   ]
  },
  {
   "cell_type": "code",
   "execution_count": null,
   "id": "243e8651-432f-4b21-beeb-7b431cb5728b",
   "metadata": {},
   "outputs": [],
   "source": []
  }
 ],
 "metadata": {
  "kernelspec": {
   "display_name": "Python 3 (ipykernel)",
   "language": "python",
   "name": "python3"
  },
  "language_info": {
   "codemirror_mode": {
    "name": "ipython",
    "version": 3
   },
   "file_extension": ".py",
   "mimetype": "text/x-python",
   "name": "python",
   "nbconvert_exporter": "python",
   "pygments_lexer": "ipython3",
   "version": "3.11.4"
  }
 },
 "nbformat": 4,
 "nbformat_minor": 5
}
